{
 "cells": [
  {
   "cell_type": "code",
   "execution_count": 1,
   "metadata": {},
   "outputs": [
    {
     "name": "stderr",
     "output_type": "stream",
     "text": [
      "/home/me/miniforge3/envs/ab311/lib/python3.11/site-packages/tqdm/auto.py:21: TqdmWarning: IProgress not found. Please update jupyter and ipywidgets. See https://ipywidgets.readthedocs.io/en/stable/user_install.html\n",
      "  from .autonotebook import tqdm as notebook_tqdm\n"
     ]
    }
   ],
   "source": [
    "import torch\n",
    "import transformers\n",
    "\n",
    "from   transformers import AutoTokenizer, AutoModelForCausalLM"
   ]
  },
  {
   "cell_type": "markdown",
   "metadata": {},
   "source": [
    "- To fit Mixtral 8x7b on 24Gb of Vram you need a model quantised on 3 bit.\n",
    "- Thankfully The Bloke generated a few of Quantised versions of Mixtral in GPTQ form. \n",
    "- Dolphin is an finetuned version of Mixtral with improved results, but unaligned\n",
    "- The revision string is the key to get the right 3bit model"
   ]
  },
  {
   "cell_type": "code",
   "execution_count": 2,
   "metadata": {},
   "outputs": [
    {
     "name": "stderr",
     "output_type": "stream",
     "text": [
      "Special tokens have been added in the vocabulary, make sure the associated word embeddings are fine-tuned or trained.\n",
      "Special tokens have been added in the vocabulary, make sure the associated word embeddings are fine-tuned or trained.\n"
     ]
    }
   ],
   "source": [
    "model_id     = \"TheBloke/dolphin-2.5-mixtral-8x7b-GPTQ\"\n",
    "revision_str = \"gptq-3bit-128g-actorder_True\"\n",
    "device       = f'cuda:{torch.cuda.current_device()}' if torch.cuda.is_available() else 'cpu'\n",
    "tokenizer    = AutoTokenizer.from_pretrained(model_id)"
   ]
  },
  {
   "cell_type": "code",
   "execution_count": 3,
   "metadata": {},
   "outputs": [
    {
     "name": "stderr",
     "output_type": "stream",
     "text": [
      "CUDA extension not installed.\n",
      "CUDA extension not installed.\n"
     ]
    }
   ],
   "source": [
    "model      = transformers.AutoModelForCausalLM.from_pretrained(\n",
    "                model_id,\n",
    "                trust_remote_code   = False,\n",
    "                revision            = revision_str,\n",
    "                device_map          = 'auto',\n",
    "            )"
   ]
  },
  {
   "cell_type": "code",
   "execution_count": 15,
   "metadata": {},
   "outputs": [],
   "source": [
    "def generate(prompt:str,max_length:int=64 ) -> None:\n",
    "    input_ids = tokenizer.encode(prompt, return_tensors=\"pt\").to(device)\n",
    "\n",
    "    with torch.no_grad():\n",
    "        output = model.generate(input_ids, max_length   = 64)\n",
    "        res = tokenizer.batch_decode(output.detach().cpu().numpy(), skip_special_tokens=True)\n",
    "        for l in res:\n",
    "            print(l)"
   ]
  },
  {
   "cell_type": "markdown",
   "metadata": {},
   "source": [
    "Inference is relatively slow around 1s/token"
   ]
  },
  {
   "cell_type": "code",
   "execution_count": 18,
   "metadata": {},
   "outputs": [
    {
     "name": "stdout",
     "output_type": "stream",
     "text": [
      "What is the Mistral?\n",
      " #1\n",
      "\n",
      "1. The Mistral is a very strong, cold and dry wind that blows in the southern regions of France.\n",
      "\n",
      "2. It is a seasonal wind that blows in the winter and spring, and is known for its speed and strength.\n"
     ]
    }
   ],
   "source": [
    "prompt    = \"What is the Mistral?\"\n",
    "generate(prompt=prompt, max_length=90)\n"
   ]
  },
  {
   "cell_type": "code",
   "execution_count": null,
   "metadata": {},
   "outputs": [],
   "source": []
  }
 ],
 "metadata": {
  "kernelspec": {
   "display_name": "Python 3",
   "language": "python",
   "name": "python3"
  },
  "language_info": {
   "codemirror_mode": {
    "name": "ipython",
    "version": 3
   },
   "file_extension": ".py",
   "mimetype": "text/x-python",
   "name": "python",
   "nbconvert_exporter": "python",
   "pygments_lexer": "ipython3",
   "version": "3.11.6"
  }
 },
 "nbformat": 4,
 "nbformat_minor": 2
}
